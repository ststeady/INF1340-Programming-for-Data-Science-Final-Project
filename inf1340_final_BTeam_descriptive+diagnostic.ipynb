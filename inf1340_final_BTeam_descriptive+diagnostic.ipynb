{
 "cells": [
  {
   "cell_type": "code",
   "execution_count": 2,
   "id": "1f94fd9c",
   "metadata": {},
   "outputs": [],
   "source": [
    "import pandas as pd\n",
    "import numpy as np"
   ]
  },
  {
   "cell_type": "code",
   "execution_count": 3,
   "id": "bc10b6bf",
   "metadata": {},
   "outputs": [],
   "source": [
    "df = pd.read_csv(\"heart.csv\")"
   ]
  },
  {
   "cell_type": "code",
   "execution_count": 6,
   "id": "35951f66",
   "metadata": {
    "scrolled": true
   },
   "outputs": [
    {
     "data": {
      "text/html": [
       "<div>\n",
       "<style scoped>\n",
       "    .dataframe tbody tr th:only-of-type {\n",
       "        vertical-align: middle;\n",
       "    }\n",
       "\n",
       "    .dataframe tbody tr th {\n",
       "        vertical-align: top;\n",
       "    }\n",
       "\n",
       "    .dataframe thead th {\n",
       "        text-align: right;\n",
       "    }\n",
       "</style>\n",
       "<table border=\"1\" class=\"dataframe\">\n",
       "  <thead>\n",
       "    <tr style=\"text-align: right;\">\n",
       "      <th></th>\n",
       "      <th>age</th>\n",
       "      <th>sex</th>\n",
       "      <th>cp</th>\n",
       "      <th>trtbps</th>\n",
       "      <th>chol</th>\n",
       "      <th>fbs</th>\n",
       "      <th>restecg</th>\n",
       "      <th>thalachh</th>\n",
       "      <th>exng</th>\n",
       "      <th>oldpeak</th>\n",
       "      <th>slp</th>\n",
       "      <th>caa</th>\n",
       "      <th>thall</th>\n",
       "      <th>output</th>\n",
       "    </tr>\n",
       "  </thead>\n",
       "  <tbody>\n",
       "    <tr>\n",
       "      <th>0</th>\n",
       "      <td>63</td>\n",
       "      <td>1</td>\n",
       "      <td>3</td>\n",
       "      <td>145</td>\n",
       "      <td>233</td>\n",
       "      <td>1</td>\n",
       "      <td>0</td>\n",
       "      <td>150</td>\n",
       "      <td>0</td>\n",
       "      <td>2.3</td>\n",
       "      <td>0</td>\n",
       "      <td>0</td>\n",
       "      <td>1</td>\n",
       "      <td>1</td>\n",
       "    </tr>\n",
       "    <tr>\n",
       "      <th>1</th>\n",
       "      <td>37</td>\n",
       "      <td>1</td>\n",
       "      <td>2</td>\n",
       "      <td>130</td>\n",
       "      <td>250</td>\n",
       "      <td>0</td>\n",
       "      <td>1</td>\n",
       "      <td>187</td>\n",
       "      <td>0</td>\n",
       "      <td>3.5</td>\n",
       "      <td>0</td>\n",
       "      <td>0</td>\n",
       "      <td>2</td>\n",
       "      <td>1</td>\n",
       "    </tr>\n",
       "    <tr>\n",
       "      <th>2</th>\n",
       "      <td>41</td>\n",
       "      <td>0</td>\n",
       "      <td>1</td>\n",
       "      <td>130</td>\n",
       "      <td>204</td>\n",
       "      <td>0</td>\n",
       "      <td>0</td>\n",
       "      <td>172</td>\n",
       "      <td>0</td>\n",
       "      <td>1.4</td>\n",
       "      <td>2</td>\n",
       "      <td>0</td>\n",
       "      <td>2</td>\n",
       "      <td>1</td>\n",
       "    </tr>\n",
       "    <tr>\n",
       "      <th>3</th>\n",
       "      <td>56</td>\n",
       "      <td>1</td>\n",
       "      <td>1</td>\n",
       "      <td>120</td>\n",
       "      <td>236</td>\n",
       "      <td>0</td>\n",
       "      <td>1</td>\n",
       "      <td>178</td>\n",
       "      <td>0</td>\n",
       "      <td>0.8</td>\n",
       "      <td>2</td>\n",
       "      <td>0</td>\n",
       "      <td>2</td>\n",
       "      <td>1</td>\n",
       "    </tr>\n",
       "    <tr>\n",
       "      <th>4</th>\n",
       "      <td>57</td>\n",
       "      <td>0</td>\n",
       "      <td>0</td>\n",
       "      <td>120</td>\n",
       "      <td>354</td>\n",
       "      <td>0</td>\n",
       "      <td>1</td>\n",
       "      <td>163</td>\n",
       "      <td>1</td>\n",
       "      <td>0.6</td>\n",
       "      <td>2</td>\n",
       "      <td>0</td>\n",
       "      <td>2</td>\n",
       "      <td>1</td>\n",
       "    </tr>\n",
       "  </tbody>\n",
       "</table>\n",
       "</div>"
      ],
      "text/plain": [
       "   age  sex  cp  trtbps  chol  fbs  restecg  thalachh  exng  oldpeak  slp  \\\n",
       "0   63    1   3     145   233    1        0       150     0      2.3    0   \n",
       "1   37    1   2     130   250    0        1       187     0      3.5    0   \n",
       "2   41    0   1     130   204    0        0       172     0      1.4    2   \n",
       "3   56    1   1     120   236    0        1       178     0      0.8    2   \n",
       "4   57    0   0     120   354    0        1       163     1      0.6    2   \n",
       "\n",
       "   caa  thall  output  \n",
       "0    0      1       1  \n",
       "1    0      2       1  \n",
       "2    0      2       1  \n",
       "3    0      2       1  \n",
       "4    0      2       1  "
      ]
     },
     "execution_count": 6,
     "metadata": {},
     "output_type": "execute_result"
    }
   ],
   "source": [
    "df.head()"
   ]
  },
  {
   "cell_type": "markdown",
   "id": "98a36e24",
   "metadata": {},
   "source": [
    "### Splitting the dataset"
   ]
  },
  {
   "cell_type": "code",
   "execution_count": 7,
   "id": "1b5325e6",
   "metadata": {
    "scrolled": true
   },
   "outputs": [],
   "source": [
    "df = df.drop(['age','chol','trtbps','cp','fbs','restecg','slp','caa','thall'], axis = 1)"
   ]
  },
  {
   "cell_type": "code",
   "execution_count": 8,
   "id": "70836126",
   "metadata": {
    "scrolled": true
   },
   "outputs": [
    {
     "data": {
      "text/html": [
       "<div>\n",
       "<style scoped>\n",
       "    .dataframe tbody tr th:only-of-type {\n",
       "        vertical-align: middle;\n",
       "    }\n",
       "\n",
       "    .dataframe tbody tr th {\n",
       "        vertical-align: top;\n",
       "    }\n",
       "\n",
       "    .dataframe thead th {\n",
       "        text-align: right;\n",
       "    }\n",
       "</style>\n",
       "<table border=\"1\" class=\"dataframe\">\n",
       "  <thead>\n",
       "    <tr style=\"text-align: right;\">\n",
       "      <th></th>\n",
       "      <th>sex</th>\n",
       "      <th>thalachh</th>\n",
       "      <th>exng</th>\n",
       "      <th>oldpeak</th>\n",
       "      <th>output</th>\n",
       "    </tr>\n",
       "  </thead>\n",
       "  <tbody>\n",
       "    <tr>\n",
       "      <th>0</th>\n",
       "      <td>1</td>\n",
       "      <td>150</td>\n",
       "      <td>0</td>\n",
       "      <td>2.3</td>\n",
       "      <td>1</td>\n",
       "    </tr>\n",
       "    <tr>\n",
       "      <th>1</th>\n",
       "      <td>1</td>\n",
       "      <td>187</td>\n",
       "      <td>0</td>\n",
       "      <td>3.5</td>\n",
       "      <td>1</td>\n",
       "    </tr>\n",
       "    <tr>\n",
       "      <th>2</th>\n",
       "      <td>0</td>\n",
       "      <td>172</td>\n",
       "      <td>0</td>\n",
       "      <td>1.4</td>\n",
       "      <td>1</td>\n",
       "    </tr>\n",
       "    <tr>\n",
       "      <th>3</th>\n",
       "      <td>1</td>\n",
       "      <td>178</td>\n",
       "      <td>0</td>\n",
       "      <td>0.8</td>\n",
       "      <td>1</td>\n",
       "    </tr>\n",
       "    <tr>\n",
       "      <th>4</th>\n",
       "      <td>0</td>\n",
       "      <td>163</td>\n",
       "      <td>1</td>\n",
       "      <td>0.6</td>\n",
       "      <td>1</td>\n",
       "    </tr>\n",
       "  </tbody>\n",
       "</table>\n",
       "</div>"
      ],
      "text/plain": [
       "   sex  thalachh  exng  oldpeak  output\n",
       "0    1       150     0      2.3       1\n",
       "1    1       187     0      3.5       1\n",
       "2    0       172     0      1.4       1\n",
       "3    1       178     0      0.8       1\n",
       "4    0       163     1      0.6       1"
      ]
     },
     "execution_count": 8,
     "metadata": {},
     "output_type": "execute_result"
    }
   ],
   "source": [
    "df.head()"
   ]
  },
  {
   "cell_type": "markdown",
   "id": "d7b859a0",
   "metadata": {},
   "source": [
    "### Descriptive analysis"
   ]
  },
  {
   "cell_type": "code",
   "execution_count": 12,
   "id": "6caeffdf",
   "metadata": {},
   "outputs": [
    {
     "data": {
      "text/html": [
       "<div>\n",
       "<style scoped>\n",
       "    .dataframe tbody tr th:only-of-type {\n",
       "        vertical-align: middle;\n",
       "    }\n",
       "\n",
       "    .dataframe tbody tr th {\n",
       "        vertical-align: top;\n",
       "    }\n",
       "\n",
       "    .dataframe thead th {\n",
       "        text-align: right;\n",
       "    }\n",
       "</style>\n",
       "<table border=\"1\" class=\"dataframe\">\n",
       "  <thead>\n",
       "    <tr style=\"text-align: right;\">\n",
       "      <th></th>\n",
       "      <th>sex</th>\n",
       "      <th>thalachh</th>\n",
       "      <th>exng</th>\n",
       "      <th>oldpeak</th>\n",
       "      <th>output</th>\n",
       "    </tr>\n",
       "  </thead>\n",
       "  <tbody>\n",
       "    <tr>\n",
       "      <th>count</th>\n",
       "      <td>303.000000</td>\n",
       "      <td>303.000000</td>\n",
       "      <td>303.000000</td>\n",
       "      <td>303.000000</td>\n",
       "      <td>303.000000</td>\n",
       "    </tr>\n",
       "    <tr>\n",
       "      <th>mean</th>\n",
       "      <td>0.683168</td>\n",
       "      <td>149.646865</td>\n",
       "      <td>0.326733</td>\n",
       "      <td>1.039604</td>\n",
       "      <td>0.544554</td>\n",
       "    </tr>\n",
       "    <tr>\n",
       "      <th>std</th>\n",
       "      <td>0.466011</td>\n",
       "      <td>22.905161</td>\n",
       "      <td>0.469794</td>\n",
       "      <td>1.161075</td>\n",
       "      <td>0.498835</td>\n",
       "    </tr>\n",
       "    <tr>\n",
       "      <th>min</th>\n",
       "      <td>0.000000</td>\n",
       "      <td>71.000000</td>\n",
       "      <td>0.000000</td>\n",
       "      <td>0.000000</td>\n",
       "      <td>0.000000</td>\n",
       "    </tr>\n",
       "    <tr>\n",
       "      <th>25%</th>\n",
       "      <td>0.000000</td>\n",
       "      <td>133.500000</td>\n",
       "      <td>0.000000</td>\n",
       "      <td>0.000000</td>\n",
       "      <td>0.000000</td>\n",
       "    </tr>\n",
       "    <tr>\n",
       "      <th>50%</th>\n",
       "      <td>1.000000</td>\n",
       "      <td>153.000000</td>\n",
       "      <td>0.000000</td>\n",
       "      <td>0.800000</td>\n",
       "      <td>1.000000</td>\n",
       "    </tr>\n",
       "    <tr>\n",
       "      <th>75%</th>\n",
       "      <td>1.000000</td>\n",
       "      <td>166.000000</td>\n",
       "      <td>1.000000</td>\n",
       "      <td>1.600000</td>\n",
       "      <td>1.000000</td>\n",
       "    </tr>\n",
       "    <tr>\n",
       "      <th>max</th>\n",
       "      <td>1.000000</td>\n",
       "      <td>202.000000</td>\n",
       "      <td>1.000000</td>\n",
       "      <td>6.200000</td>\n",
       "      <td>1.000000</td>\n",
       "    </tr>\n",
       "  </tbody>\n",
       "</table>\n",
       "</div>"
      ],
      "text/plain": [
       "              sex    thalachh        exng     oldpeak      output\n",
       "count  303.000000  303.000000  303.000000  303.000000  303.000000\n",
       "mean     0.683168  149.646865    0.326733    1.039604    0.544554\n",
       "std      0.466011   22.905161    0.469794    1.161075    0.498835\n",
       "min      0.000000   71.000000    0.000000    0.000000    0.000000\n",
       "25%      0.000000  133.500000    0.000000    0.000000    0.000000\n",
       "50%      1.000000  153.000000    0.000000    0.800000    1.000000\n",
       "75%      1.000000  166.000000    1.000000    1.600000    1.000000\n",
       "max      1.000000  202.000000    1.000000    6.200000    1.000000"
      ]
     },
     "execution_count": 12,
     "metadata": {},
     "output_type": "execute_result"
    }
   ],
   "source": [
    "df.describe()"
   ]
  },
  {
   "cell_type": "code",
   "execution_count": 18,
   "id": "4801d808",
   "metadata": {
    "scrolled": true
   },
   "outputs": [
    {
     "name": "stdout",
     "output_type": "stream",
     "text": [
      "The mean of maximum heart rate achieved: 149.64686468646866\n",
      "The highest of maximum heart rate achieved: 202\n",
      "The lowest of maximum heart rate achieved : 71\n",
      "The standard deviation of maximum heart rate: 22.905161114914087\n"
     ]
    }
   ],
   "source": [
    "print(\"The mean of maximum heart rate achieved: \" + str(df['thalachh'].mean()))\n",
    "print(\"The highest of maximum heart rate achieved: \" + str(df['thalachh'].max()))\n",
    "print(\"The lowest of maximum heart rate achieved : \" + str(df['thalachh'].min()))\n",
    "print(\"The standard deviation of maximum heart rate: \" + str(df['thalachh'].std()))"
   ]
  },
  {
   "cell_type": "code",
   "execution_count": 19,
   "id": "687e17ae",
   "metadata": {
    "scrolled": true
   },
   "outputs": [
    {
     "name": "stdout",
     "output_type": "stream",
     "text": [
      "The mean of old peak is: 1.0396039603960396\n",
      "The highest of old peak: 6.2\n",
      "The lowest of old peak: 0.0\n",
      "The standard deviation of old peak:1.1610750220686343\n"
     ]
    }
   ],
   "source": [
    "print(\"The mean of old peak is: \" + str(df['oldpeak'].mean()))\n",
    "print(\"The highest of old peak: \" + str(df['oldpeak'].max()))\n",
    "print(\"The lowest of old peak: \" + str(df['oldpeak'].min()))\n",
    "print(\"The standard deviation of old peak:\" + str(df['oldpeak'].std()))"
   ]
  },
  {
   "cell_type": "markdown",
   "id": "c3bf410b",
   "metadata": {},
   "source": [
    "### Diagnostic analysis"
   ]
  },
  {
   "cell_type": "code",
   "execution_count": 23,
   "id": "5b515c26",
   "metadata": {
    "scrolled": true
   },
   "outputs": [
    {
     "data": {
      "text/plain": [
       "count     303\n",
       "unique      2\n",
       "top         1\n",
       "freq      207\n",
       "Name: sex, dtype: object"
      ]
     },
     "execution_count": 23,
     "metadata": {},
     "output_type": "execute_result"
    }
   ],
   "source": [
    "df['sex'].astype(str).describe()"
   ]
  },
  {
   "cell_type": "code",
   "execution_count": 53,
   "id": "e8a81fa5",
   "metadata": {},
   "outputs": [],
   "source": [
    "num_male = 303-207\n",
    "num_female = 207"
   ]
  },
  {
   "cell_type": "code",
   "execution_count": 54,
   "id": "4e51dd66",
   "metadata": {},
   "outputs": [
    {
     "name": "stdout",
     "output_type": "stream",
     "text": [
      "There are 96 males and 207 females in the sample\n"
     ]
    }
   ],
   "source": [
    "print(\"There are \" + str(num_male) + \" males and \" + str(num_female) + \" females in the sample\" )"
   ]
  },
  {
   "cell_type": "code",
   "execution_count": 25,
   "id": "4b28fbd4",
   "metadata": {},
   "outputs": [
    {
     "data": {
      "text/plain": [
       "count     303\n",
       "unique      2\n",
       "top         0\n",
       "freq      204\n",
       "Name: exng, dtype: object"
      ]
     },
     "execution_count": 25,
     "metadata": {},
     "output_type": "execute_result"
    }
   ],
   "source": [
    "df['exng'].astype(str).describe()"
   ]
  },
  {
   "cell_type": "code",
   "execution_count": 27,
   "id": "ef5f3400",
   "metadata": {},
   "outputs": [
    {
     "name": "stdout",
     "output_type": "stream",
     "text": [
      "99 individuals had exercise induced angina and 204 did not have exercise induced angina\n"
     ]
    }
   ],
   "source": [
    "print(str(303-204) + \" individuals had exercise induced angina and 204 did not have exercise induced angina\")"
   ]
  },
  {
   "cell_type": "code",
   "execution_count": 70,
   "id": "58479168",
   "metadata": {},
   "outputs": [
    {
     "data": {
      "text/html": [
       "<div>\n",
       "<style scoped>\n",
       "    .dataframe tbody tr th:only-of-type {\n",
       "        vertical-align: middle;\n",
       "    }\n",
       "\n",
       "    .dataframe tbody tr th {\n",
       "        vertical-align: top;\n",
       "    }\n",
       "\n",
       "    .dataframe thead th {\n",
       "        text-align: right;\n",
       "    }\n",
       "</style>\n",
       "<table border=\"1\" class=\"dataframe\">\n",
       "  <thead>\n",
       "    <tr style=\"text-align: right;\">\n",
       "      <th></th>\n",
       "      <th>thalachh</th>\n",
       "      <th>output</th>\n",
       "    </tr>\n",
       "  </thead>\n",
       "  <tbody>\n",
       "    <tr>\n",
       "      <th>thalachh</th>\n",
       "      <td>1.000000</td>\n",
       "      <td>0.421741</td>\n",
       "    </tr>\n",
       "    <tr>\n",
       "      <th>output</th>\n",
       "      <td>0.421741</td>\n",
       "      <td>1.000000</td>\n",
       "    </tr>\n",
       "  </tbody>\n",
       "</table>\n",
       "</div>"
      ],
      "text/plain": [
       "          thalachh    output\n",
       "thalachh  1.000000  0.421741\n",
       "output    0.421741  1.000000"
      ]
     },
     "execution_count": 70,
     "metadata": {},
     "output_type": "execute_result"
    }
   ],
   "source": [
    "df[['thalachh','output']].corr()"
   ]
  },
  {
   "cell_type": "code",
   "execution_count": 29,
   "id": "1f1b74d4",
   "metadata": {
    "scrolled": true
   },
   "outputs": [
    {
     "data": {
      "text/html": [
       "<div>\n",
       "<style scoped>\n",
       "    .dataframe tbody tr th:only-of-type {\n",
       "        vertical-align: middle;\n",
       "    }\n",
       "\n",
       "    .dataframe tbody tr th {\n",
       "        vertical-align: top;\n",
       "    }\n",
       "\n",
       "    .dataframe thead th {\n",
       "        text-align: right;\n",
       "    }\n",
       "</style>\n",
       "<table border=\"1\" class=\"dataframe\">\n",
       "  <thead>\n",
       "    <tr style=\"text-align: right;\">\n",
       "      <th></th>\n",
       "      <th>oldpeak</th>\n",
       "      <th>output</th>\n",
       "    </tr>\n",
       "  </thead>\n",
       "  <tbody>\n",
       "    <tr>\n",
       "      <th>oldpeak</th>\n",
       "      <td>1.000000</td>\n",
       "      <td>-0.430696</td>\n",
       "    </tr>\n",
       "    <tr>\n",
       "      <th>output</th>\n",
       "      <td>-0.430696</td>\n",
       "      <td>1.000000</td>\n",
       "    </tr>\n",
       "  </tbody>\n",
       "</table>\n",
       "</div>"
      ],
      "text/plain": [
       "          oldpeak    output\n",
       "oldpeak  1.000000 -0.430696\n",
       "output  -0.430696  1.000000"
      ]
     },
     "execution_count": 29,
     "metadata": {},
     "output_type": "execute_result"
    }
   ],
   "source": [
    "df[['oldpeak','output']].corr()"
   ]
  },
  {
   "cell_type": "code",
   "execution_count": 33,
   "id": "ba16201e",
   "metadata": {
    "scrolled": true
   },
   "outputs": [
    {
     "data": {
      "text/plain": [
       "<AxesSubplot:xlabel='output', ylabel='thalachh'>"
      ]
     },
     "execution_count": 33,
     "metadata": {},
     "output_type": "execute_result"
    },
    {
     "data": {
      "image/png": "[encoded data removed]",
      "text/plain": [
       "<Figure size 432x288 with 1 Axes>"
      ]
     },
     "metadata": {
      "needs_background": "light"
     },
     "output_type": "display_data"
    }
   ],
   "source": [
    "df.plot.scatter(x = \"output\", y= \"thalachh\")"
   ]
  },
  {
   "cell_type": "code",
   "execution_count": 34,
   "id": "68db8298",
   "metadata": {
    "scrolled": true
   },
   "outputs": [
    {
     "data": {
      "text/plain": [
       "<AxesSubplot:xlabel='output', ylabel='oldpeak'>"
      ]
     },
     "execution_count": 34,
     "metadata": {},
     "output_type": "execute_result"
    },
    {
     "data": {
      "image/png": "[encoded data removed]",
      "text/plain": [
       "<Figure size 432x288 with 1 Axes>"
      ]
     },
     "metadata": {
      "needs_background": "light"
     },
     "output_type": "display_data"
    }
   ],
   "source": [
    "df.plot.scatter(x = 'output', y= 'oldpeak')"
   ]
  },
  {
   "cell_type": "code",
   "execution_count": 36,
   "id": "9551c6e3",
   "metadata": {
    "scrolled": true
   },
   "outputs": [
    {
     "name": "stdout",
     "output_type": "stream",
     "text": [
      "There is a moderate possitive correlation between maximum heart rate and having a heart attack(0.42)\n",
      "there is a moderate negative correlation between old peak and having a heart attack(-0.43)\n"
     ]
    }
   ],
   "source": [
    "print(\"There is a moderate possitive correlation between maximum heart rate and having a heart attack(0.42)\")\n",
    "print(\"there is a moderate negative correlation between old peak and having a heart attack(-0.43)\")"
   ]
  },
  {
   "cell_type": "code",
   "execution_count": 56,
   "id": "94a4efa0",
   "metadata": {
    "scrolled": true
   },
   "outputs": [
    {
     "data": {
      "text/plain": [
       "count     138\n",
       "unique      2\n",
       "top         1\n",
       "freq      114\n",
       "Name: sex, dtype: object"
      ]
     },
     "execution_count": 56,
     "metadata": {},
     "output_type": "execute_result"
    }
   ],
   "source": [
    "dfsex0 = df.loc[df['output'] == 0, 'sex']\n",
    "dfsex0.astype(str).describe()"
   ]
  },
  {
   "cell_type": "code",
   "execution_count": 70,
   "id": "c0b3d632",
   "metadata": {
    "scrolled": true
   },
   "outputs": [
    {
     "name": "stdout",
     "output_type": "stream",
     "text": [
      "In the sample 55.07 percent of female has less chance of heart attack\n",
      "In the sample 44.93 percent of female has more chance of heart attack\n",
      "In the sample 25.0 percent of male has less chance of heart attack\n",
      "In the sample 75.0 percent of male has more chance of heart attack\n"
     ]
    }
   ],
   "source": [
    "f_perc_0 = round((114 / num_female) * 100, 2)\n",
    "m_perc_0 = round((24 / num_male) * 100,2)\n",
    "print(\"In the sample \" + str(f_perc_0) + \" percent of female has less chance of heart attack\")\n",
    "print(\"In the sample \" + str(100-f_perc_0) + \" percent of female has more chance of heart attack\")\n",
    "print(\"In the sample \" + str(m_perc_0) + \" percent of male has less chance of heart attack\")\n",
    "print(\"In the sample \" + str(100-m_perc_0) + \" percent of male has more chance of heart attack\")"
   ]
  },
  {
   "cell_type": "code",
   "execution_count": 73,
   "id": "71e02f6e",
   "metadata": {
    "scrolled": true
   },
   "outputs": [
    {
     "data": {
      "text/plain": [
       "count     303\n",
       "unique      2\n",
       "top         0\n",
       "freq      204\n",
       "Name: exng, dtype: object"
      ]
     },
     "execution_count": 73,
     "metadata": {},
     "output_type": "execute_result"
    }
   ],
   "source": [
    "df['exng'].astype(str).describe()"
   ]
  },
  {
   "cell_type": "code",
   "execution_count": 74,
   "id": "2c8f9d4e",
   "metadata": {},
   "outputs": [],
   "source": [
    "sum_ex0 = 204\n",
    "sum_ex1 = 303-204"
   ]
  },
  {
   "cell_type": "code",
   "execution_count": 72,
   "id": "907b2f5f",
   "metadata": {},
   "outputs": [
    {
     "data": {
      "text/plain": [
       "count     138\n",
       "unique      2\n",
       "top         1\n",
       "freq       76\n",
       "Name: exng, dtype: object"
      ]
     },
     "execution_count": 72,
     "metadata": {},
     "output_type": "execute_result"
    }
   ],
   "source": [
    "dfexng0 = df.loc[df['output'] == 0, 'exng']\n",
    "dfexng0.astype(str).describe()"
   ]
  },
  {
   "cell_type": "code",
   "execution_count": 84,
   "id": "cdaa73c2",
   "metadata": {},
   "outputs": [
    {
     "name": "stdout",
     "output_type": "stream",
     "text": [
      "In the sample 30.39 percent of patient without exercise induced angina \n",
      " has less chance of heart attack\n",
      "In the sample 69.61 percent opatient without exercise induced angina\n",
      " has more chance of heart attack\n",
      "In the sample 77.0 percent patient with exercise induced angina\n",
      " has less chance of heart attack\n",
      "In the sample 23.0 percent patient with exercise induced angina\n",
      " has more chance of heart attack\n"
     ]
    }
   ],
   "source": [
    "ex0 = round(((138-76)/sum_ex0)*100,2)\n",
    "ex1 = round(((76/sum_ex1)*100),0)\n",
    "print(\"In the sample \" + str(ex0) + \" percent of patients without exercise induced angina \\n has less chance of heart attack\")\n",
    "print(\"In the sample \" + str(100-ex0) + \" percent patients without exercise induced angina\\n has more chance of heart attack\")\n",
    "print(\"In the sample \" + str(ex1) + \" percent patients with exercise induced angina\\n has less chance of heart attack\")\n",
    "print(\"In the sample \" + str(100-ex1) + \" percent patients with exercise induced angina\\n has more chance of heart attack\")"
   ]
  },
  {
   "cell_type": "code",
   "execution_count": 86,
   "id": "35a33539",
   "metadata": {
    "scrolled": true
   },
   "outputs": [
    {
     "name": "stdout",
     "output_type": "stream",
     "text": [
      "The average maximum heart rate achieved for male: 151.125\n",
      "The average maximum heart rate achieved for female: 148.96135265700482\n",
      "The average old peak for male: 0.876041666666667\n",
      "The average old peak for female: 1.1154589371980679\n",
      "The average maximum heart rate achieved for patients with exercise induced angina: 137.21212121212122\n",
      "The average maximum heart rate achieved for patients without exercise induced angina: 155.6813725490196\n",
      "The average old peak for  patients with exercise induced angina: 1.5191919191919192\n",
      "The average old peak for  patients without exercise induced angina: 0.8068627450980393\n"
     ]
    }
   ],
   "source": [
    "def find_avgs(binary, continuous):\n",
    "    '''This function takes the parameters of two columns of the dataframe where col1 is the column of\n",
    "    binary variables(0 and 1), and col2 is the column of continuous variables. Function returns the mean\n",
    "    of column2 data based on the two groups in column 1 where the first element returned corresponds to 0\n",
    "    and the second element corresponds to 1\n",
    "    '''\n",
    "    l0 = []\n",
    "    l1 = []\n",
    "    for i in range(len(df)):\n",
    "        if df.loc[i,binary] == 0:\n",
    "            l0.append(df.loc[i,str(continuous)])\n",
    "        elif df.loc[i,binary] == 1:\n",
    "            l1.append(df.loc[i,str(continuous)])\n",
    "    l0 = pd.Series(l0)\n",
    "    l1 = pd.Series(l1)\n",
    "    l0avg = l0.mean()\n",
    "    l1avg = l1.mean()\n",
    "    \n",
    "    return l0avg, l1avg\n",
    "\n",
    "print(\"The average maximum heart rate achieved for male: \" + str(find_avgs(\"sex\",\"thalachh\")[0]))\n",
    "print(\"The average maximum heart rate achieved for female: \" + str(find_avgs(\"sex\",\"thalachh\")[1]))\n",
    "print(\"The average old peak for male: \" + str(find_avgs(\"sex\",\"oldpeak\")[0]))\n",
    "print(\"The average old peak for female: \" + str(find_avgs(\"sex\",\"oldpeak\")[1]))\n",
    "print(\"The average maximum heart rate achieved for patients with exercise induced angina: \" +\n",
    "     str(find_avgs(\"exng\",\"thalachh\")[1]))\n",
    "print(\"The average maximum heart rate achieved for patients without exercise induced angina: \" +\n",
    "     str(find_avgs(\"exng\",\"thalachh\")[0]))\n",
    "print(\"The average old peak for  patients with exercise induced angina: \" +\n",
    "     str(find_avgs(\"exng\",\"oldpeak\")[1]))\n",
    "print(\"The average old peak for  patients without exercise induced angina: \" +\n",
    "     str(find_avgs(\"exng\",\"oldpeak\")[0]))"
   ]
  },
  {
   "cell_type": "markdown",
   "id": "40577d44",
   "metadata": {},
   "source": [
    "Summary\n",
    "\n",
    "In the sample dataset, there are 303 patients including 96 males and 207 females, 99 patients who have exercise induced angina and 204 does not. We first looked at the relationship between our continuous variables: 1. maximum heart rate achieved 2. Old peak,and the output which is chance of heart attack, and discovered a moderate positive correlation between maximum heart rate achieved and the chance of heart attack, and a moderate negative correlation between old peak and the chance of having heart attack. Furthermore, we discovered that in the sample, 44.93 percent of female has more chance of heart attack while 75 percent of male has more chance of heart attack. Also, 69.61 percent of patients who does not have exercise induced angina has more chance of heart attack, while 23 percent of patients who has exercise induced angina has less chance of heart attack.\n",
    "\n",
    "From the analysis, we see that in our sample, male patients have more chance of heart attack, and also patients who does not have exercise induced angina has more chance of heart attack as well. Given the correlation we found earlier between the two continuous variables and the output, we decided to look at the relationship between the patients' demographics and the continuous variables as well. \n",
    "\n",
    "We discovered that in the sample, male patients on average achieve a higher maximum heart rate, and has lower old peak, whereas female has lower maximum heart rate and higher old peak. Patients with exercise induced angina has lower maximum heart rate, and higher old peak, whereas patients that don't have exercise induced angina has higher maximum heart rate and lower old peak.\n",
    "\n",
    "In conclusion, we find that male patients comparing to female, and patients without exercise induced angina compared to patients with exercise induced angina have a higher chance of heart attack. We identify some possible explanations which is male patients and patients without exercise induced angina achieve a relatively higher maximum heart rate and have a lower level of old peak. "
   ]
  }
 ],
 "metadata": {
  "kernelspec": {
   "display_name": "Python 3",
   "language": "python",
   "name": "python3"
  },
  "language_info": {
   "codemirror_mode": {
    "name": "ipython",
    "version": 3
   },
   "file_extension": ".py",
   "mimetype": "text/x-python",
   "name": "python",
   "nbconvert_exporter": "python",
   "pygments_lexer": "ipython3",
   "version": "3.8.8"
  }
 },
 "nbformat": 4,
 "nbformat_minor": 5
}
